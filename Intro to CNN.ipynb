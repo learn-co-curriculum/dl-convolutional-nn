{
 "cells": [
  {
   "cell_type": "markdown",
   "metadata": {},
   "source": [
    "# 1. Introduction to CNNs"
   ]
  },
  {
   "cell_type": "markdown",
   "metadata": {},
   "source": [
    "Introduction: why convolutional neural networks?\n",
    "- Image classification\n",
    "- Object detection\n",
    "- Picture neural style transfer\n",
    "\n",
    "How are images stored? → can get very big, x*y*z input features\n",
    "- x = pixels x-axis *\n",
    "- y = # pixels y-axis *\n",
    "- z = 3 (RGB inputs) \n",
    "\n",
    "Typical layers in a CNN: convolution layers, pooling layers, Fully connected layers\n",
    "- Convolution layer:\n",
    "   - Performing a basic convolution: how filters work (to find \"edges\")\n",
    "   - Introduce padding (adding edges to pictures to avoid info shrinkage)\n",
    "   - introduce striding (how filter is shifter along the image)\n",
    "   - Build your own convolution layer taking into account: padding, striding, filter size, number of filters\n",
    "- Pooling layer: makes detected features more robust, works well\n",
    "  - Preserves important features\n",
    "  - Has no parameters!\n",
    "  - Max pooling, also average pooling\n",
    "- Add fully connected layers towards the end\n"
   ]
  },
  {
   "cell_type": "code",
   "execution_count": null,
   "metadata": {},
   "outputs": [],
   "source": []
  }
 ],
 "metadata": {
  "kernelspec": {
   "display_name": "Python 3",
   "language": "python",
   "name": "python3"
  },
  "language_info": {
   "codemirror_mode": {
    "name": "ipython",
    "version": 3
   },
   "file_extension": ".py",
   "mimetype": "text/x-python",
   "name": "python",
   "nbconvert_exporter": "python",
   "pygments_lexer": "ipython3",
   "version": "3.6.4"
  }
 },
 "nbformat": 4,
 "nbformat_minor": 2
}
